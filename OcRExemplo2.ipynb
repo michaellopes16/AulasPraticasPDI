{
 "cells": [
  {
   "cell_type": "code",
   "execution_count": 6,
   "metadata": {},
   "outputs": [],
   "source": [
    "import cv2\n",
    "import numpy as np\n",
    "\n",
    "# Carrega a imagem\n",
    "img = cv2.imread('placa2.jpg')\n",
    "\n",
    "# Converte a imagem para escala de cinza\n",
    "gray = cv2.cvtColor(img, cv2.COLOR_BGR2GRAY)\n",
    "\n",
    "# Aplica a técnica de binarização\n",
    "_, thresh = cv2.threshold(gray, 0, 255, cv2.THRESH_BINARY_INV + cv2.THRESH_OTSU)\n",
    "\n",
    "# Cria um kernel horizontal\n",
    "kernel = np.ones((15, 10), np.uint8)\n",
    "\n",
    "# Aplica a transformação morfológica horizontal\n",
    "morphed = cv2.morphologyEx(thresh, cv2.MORPH_CLOSE, kernel)\n",
    "\n",
    "# Exibe a imagem com a transformação morfológica aplicada\n",
    "cv2.imshow('Imagem Binarizada', thresh)\n",
    "cv2.imshow('Imagem com transformação morfológica horizontal', morphed)\n",
    "cv2.waitKey(0)\n",
    "cv2.destroyAllWindows()\n"
   ]
  }
 ],
 "metadata": {
  "kernelspec": {
   "display_name": "vOCR",
   "language": "python",
   "name": "python3"
  },
  "language_info": {
   "codemirror_mode": {
    "name": "ipython",
    "version": 3
   },
   "file_extension": ".py",
   "mimetype": "text/x-python",
   "name": "python",
   "nbconvert_exporter": "python",
   "pygments_lexer": "ipython3",
   "version": "3.11.7"
  }
 },
 "nbformat": 4,
 "nbformat_minor": 2
}
